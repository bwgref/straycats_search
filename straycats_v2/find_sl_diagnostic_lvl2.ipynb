{
 "cells": [
  {
   "cell_type": "code",
   "execution_count": null,
   "metadata": {},
   "outputs": [],
   "source": [
    "import numpy as np\n",
    "import matplotlib.pyplot as plt\n",
    "from astropy.io.fits import getdata\n",
    "\n",
    "import pandas as pd\n",
    "numaster = getdata('numaster.fits')\n",
    "\n",
    "from astropy.time import Time\n",
    "\n",
    "cutoff_time = Time('2021-12-31T00:00:00').mjd\n",
    "\n"
   ]
  },
  {
   "cell_type": "code",
   "execution_count": 2,
   "metadata": {},
   "outputs": [],
   "source": [
    "df = pd.read_csv('stray_light_det_v2.txt', sep='\\s+', names=['SEQID', 'FPM', 'SRC', 'DET0', 'DET1', 'DET2', 'DET3'])\n",
    "\n",
    "# Filter out cases where the source is really bright:\n",
    "bright_lim = 100.\n",
    "df = df[df['SRC']<100.]\n",
    "\n",
    "\n",
    "df['DET0123'] = df['DET0'] + df['DET1'] + df['DET2'] + df['DET3']\n",
    "df['DET01'] = df['DET0'] + df['DET1']\n",
    "df['DET12'] = df['DET1'] + df['DET2']\n",
    "df['DET23'] = df['DET2'] + df['DET3']\n",
    "df['DET03'] = df['DET0'] + df['DET3']\n",
    "\n",
    "names = []\n",
    "exp = []\n",
    "ra = []\n",
    "dec = []\n",
    "pa = []\n",
    "mjds = []\n",
    "for row in df['SEQID']:\n",
    "    nuind = np.where(numaster['OBSID'] == f'{row}')\n",
    "\n",
    "    if (len(nuind[0]) == 0):\n",
    "        names = np.append(names, '')\n",
    "        exp = np.append(exp, 0)\n",
    "        ra = np.append(ra, 0.)\n",
    "        dec = np.append(dec, 0.)\n",
    "        pa = np.append(pa, 0.)\n",
    "        mjds = np.append(mjds, 0.)\n",
    "    else:\n",
    "        names = np.append(names, numaster['NAME'][nuind[0]].strip())\n",
    "        exp = np.append(exp, numaster['EXPOSURE_A'][nuind[0]])\n",
    "        ra = np.append(ra,numaster['RA'][nuind[0]] )\n",
    "        dec = np.append(dec,numaster['DEC'][nuind[0]] )\n",
    "        pa = np.append(pa,numaster['ROLL_ANGLE'][nuind[0]] )\n",
    "        mjds = np.append(mjds,numaster['TIME'][nuind[0]] )\n",
    "\n",
    "\n",
    "        \n",
    "df['NAME'] = names\n",
    "df['EXPOSURE'] = exp\n",
    "df['RA'] = ra\n",
    "df['DEC'] = dec\n",
    "df['PA'] = pa\n",
    "df['TIME'] = mjds\n",
    "\n",
    "# Get rid of stuff with low exposure\n",
    "df = df[(df['EXPOSURE']>1e3) & (df['TIME']<cutoff_time)]\n",
    "\n",
    "\n",
    "# Get rid of stuff near SgrA*, GalSurveys, Gal_Cen, or the GC Magnetar:\n",
    "# Also Coma and Bullet cluster stuff\n",
    "bad_name = ['Sgr', 'GalSurvey', 'Gal_Cen', 'gcmag', 'Coma', 'bullet', 'Bullet']\n",
    "for bn in bad_name:   \n",
    "    df = df[~(df['NAME'].str.startswith(bn))]"
   ]
  },
  {
   "cell_type": "code",
   "execution_count": 3,
   "metadata": {},
   "outputs": [],
   "source": [
    "sig_list = []\n",
    "\n",
    "merged_df = pd.read_csv('straycats2_merged.csv')\n",
    "\n",
    "\n",
    "\n",
    "sig_list = merged_df['SEQID'].values\n",
    "\n",
    "# with open('straycats2_merged.csv', 'r') as f:\n",
    "#     for line in f:\n",
    "#         fields = line.split(',')\n",
    "# #         if fields[0].strip() == '':\n",
    "# #             break\n",
    "#         if fields[1] not in sig_list:\n",
    "#             sig_list = np.append(sig_list, fields[1])\n",
    "# sig_list = sig_list[1:]"
   ]
  },
  {
   "cell_type": "code",
   "execution_count": 4,
   "metadata": {},
   "outputs": [
    {
     "name": "stdout",
     "output_type": "stream",
     "text": [
      "877\n",
      "106\n",
      "777\n"
     ]
    }
   ],
   "source": [
    "print(len(df))\n",
    "print(len(sig_list))\n",
    "\n",
    "for seq in sig_list:\n",
    "    try:\n",
    "        seqid = float(seq)\n",
    "    except:\n",
    "        continue\n",
    "    df = df[~(df['SEQID'] == seqid)].copy().reset_index(drop=True)\n",
    "print(len(df))\n"
   ]
  },
  {
   "cell_type": "code",
   "execution_count": 5,
   "metadata": {},
   "outputs": [
    {
     "name": "stdout",
     "output_type": "stream",
     "text": [
      "677\n"
     ]
    }
   ],
   "source": [
    "# Filter out bright sources and short exposures\n",
    "df = df[(df['SRC'] < 2.) & (df['EXPOSURE'] > 10e3)].copy().reset_index(drop=True)\n",
    "print(len(df))"
   ]
  },
  {
   "cell_type": "code",
   "execution_count": 6,
   "metadata": {},
   "outputs": [
    {
     "name": "stdout",
     "output_type": "stream",
     "text": [
      "DET0123\n",
      "\n",
      "A 0.5320148773057951 47964.8241 6.026996488856269 60602021004, M87, 47964.8241, 187.6611, 12.3865, 28.7368, 0\n",
      "A 0.529361188133461 48770.1036 6.07658727081034 60602021002, M87, 48770.1036, 187.6612, 12.3905, 32.7813, 0\n",
      "A 0.1086036524758922 107114.2612 8.016931870751574 30601014003, 2FHL_J1745d1m3035, 107114.2612, 266.3299, -30.5272, 158.573, 0\n",
      "A 0.1568186801043871 106116.1846 7.043178686190087 80601502001, Circinus_ULX5, 106116.1846, 213.1882, -65.3275, 102.6844, 0\n",
      "A 1.187063119708284 101749.4335 6.407042925158518 70660001002, ABELL_2029, 101749.4335, 227.7529, 5.7465, 164.7726, 1\n",
      "A 0.6533700752504995 52526.1277 6.043759683215688 70660004004, ABELL_2199, 52526.1277, 247.1419, 39.5392, 320.0378, 1\n",
      "A 0.656178983165541 85603.1684 5.985578778533496 70660004002, ABELL_2199, 85603.1684, 247.1378, 39.5406, 320.0401, 1\n",
      "A 0.7556124896055275 52861.752 5.286336284812256 70660003004, ABELL_1795, 52861.752, 207.1976, 26.5853, 346.181, 1\n",
      "A 1.6172604266342168 205271.2071 6.265765349913181 30601032002, PSR_B0833m45, 205271.2071, 128.821, -45.2654, 308.1069, 2\n",
      "A 1.010943969821672 123045.3949 5.740864923266155 70660002004, ABELL_478, 123045.3949, 63.3515, 10.449, 151.2264, 2\n",
      "A 1.0227004380817617 98814.8594 6.579017240735026 70660002002, ABELL_478, 98814.8594, 63.3462, 10.4457, 151.2454, 2\n",
      "B 0.4984897928658466 47964.8241 6.750499065613323 60602021004, M87, 47964.8241, 187.6611, 12.3865, 28.7368, 0\n",
      "B 0.5039570065657608 48770.1036 6.754076217187533 60602021002, M87, 48770.1036, 187.6612, 12.3905, 32.7813, 0\n",
      "B 0.1533789296186446 106116.1846 6.917254086847394 80601502001, Circinus_ULX5, 106116.1846, 213.1882, -65.3275, 102.6844, 0\n",
      "B 0.1793827866578956 107114.2612 5.882759411394635 30601014003, 2FHL_J1745d1m3035, 107114.2612, 266.3299, -30.5272, 158.573, 1\n",
      "B 1.148158392436918 101749.4335 6.082195269132162 70660001002, ABELL_2029, 101749.4335, 227.7529, 5.7465, 164.7726, 1\n",
      "B 1.007527358447719 98814.8594 5.0291156128383845 70660002002, ABELL_478, 98814.8594, 63.3462, 10.4457, 151.2454, 1\n",
      "B 0.6388029326929575 52526.1277 5.700121754487141 70660004004, ABELL_2199, 52526.1277, 247.1419, 39.5392, 320.0378, 1\n",
      "B 0.6391681452066412 85603.1684 5.695142696914763 70660004002, ABELL_2199, 85603.1684, 247.1378, 39.5406, 320.0401, 1\n",
      "B 1.459824281358227 205271.2071 6.436695275900188 30601032002, PSR_B0833m45, 205271.2071, 128.821, -45.2654, 308.1069, 2\n",
      "B 1.008114989693481 123045.3949 6.225174561276478 70660002004, ABELL_478, 123045.3949, 63.3515, 10.449, 151.2264, 2\n",
      "B 0.7352213292145876 52861.752 6.85966798545725 70660003004, ABELL_1795, 52861.752, 207.1976, 26.5853, 346.181, 2\n",
      "DET12\n",
      "\n",
      "DET23\n",
      "\n",
      "A 0.7711697901939757 41006.5337 5.661800508100875 80602315006, PSR_J1846m0258, 41006.5337, 281.5849, -3.0108, 335.8479, 0\n",
      "A 0.8330394074763325 29566.4284 5.235220616109048 90601331002, SGR_1830m0645, 29566.4284, 277.6453, -6.7894, 327.8198, 1\n",
      "A 0.7965487020405954 83971.0112 5.1081942713229065 80602315008, PSR_J1846m0258, 83971.0112, 281.5815, -3.0047, 327.7904, 1\n",
      "A 1.0238395307429229 31827.2532 5.491055463530548 80602315004, PSR_J1846m0258, 31827.2532, 281.5663, -3.0033, 347.9814, 2\n",
      "A 0.8812734894370203 21502.9729 5.308997107195902 80602315002, PSR_J1846m0258, 21502.9729, 281.5668, -2.994, 359.9155, 2\n",
      "DET01\n",
      "\n",
      "A 1.9400469467106716 24605.0747 5.400606947841305 30602008004, GRS_1915p105, 24605.0747, 288.7922, 10.9192, 322.106, 0\n",
      "A 0.3489145382733475 56297.4535 5.2111873748166815 60702058002, NGC1365, 56297.4535, 53.3324, -36.1213, 29.4069, 1\n",
      "B 1.2675076399869256 25022.5845 5.087192147487208 80702313002, Swift_J1555d2m5402, 25022.5845, 238.8094, -54.109, 276.7297, 0\n",
      "DET03\n",
      "\n",
      "B 0.7617324380637409 83971.0112 5.173581100719055 80602315008, PSR_J1846m0258, 83971.0112, 281.5815, -3.0047, 327.7904, 0\n",
      "DET1\n",
      "\n",
      "A 0.8796402723578207 51864.383 5.214403371779207 80702313006, Swift_J1555d2m5402, 51864.383, 238.7035, -54.0645, 10.0011, 0\n",
      "A 0.0679627792841181 21747.1977 5.190882118309202 60061319002, NGC7682, 21747.1977, 352.2496, 3.4937, 307.5679, 0\n",
      "A 0.2403153659445481 159403.0405 5.172199604926248 70601004002, CIZA_0107d7p5408, 159403.0405, 16.9807, 54.0826, 268.6796, 1\n",
      "B 0.8386866459497264 51864.383 5.037889747952982 80702313006, Swift_J1555d2m5402, 51864.383, 238.7035, -54.0645, 10.0011, 0\n",
      "DET2\n",
      "\n",
      "A 0.2255261177867564 56827.1211 5.515344698254082 40660005001, PSR_J1849m0001, 56827.1211, 282.2434, -0.0752, 303.8208, 0\n",
      "A 0.0628357336248506 32497.4323 6.177041704656727 30601002002, Sct_X1, 32497.4323, 278.835, -7.6512, 318.8149, 0\n",
      "B 0.3320592790268246 56297.4535 5.5504826425907625 60702058002, NGC1365, 56297.4535, 53.3324, -36.1213, 29.4069, 0\n",
      "B 1.8370969793982044 24605.0747 5.837330149552946 30602008004, GRS_1915p105, 24605.0747, 288.7922, 10.9192, 322.106, 0\n",
      "DET3\n",
      "\n",
      "A 1.3351938149398508 25022.5845 5.443052083010338 80702313002, Swift_J1555d2m5402, 25022.5845, 238.8094, -54.109, 276.7297, 0\n",
      "A 0.1389740299271307 74049.8063 5.097659694528642 40660003002, PSR_J1418m6058, 74049.8063, 214.7665, -60.9915, 237.0288, 0\n",
      "B 1.9176381588453035 102221.5888 5.912703712172676 30602030004, Eta_Carinae, 102221.5888, 161.1902, -59.6559, 56.1208, 0\n",
      "B 0.7455512945640475 41006.5337 5.193951019818332 80602315006, PSR_J1846m0258, 41006.5337, 281.5849, -3.0108, 335.8479, 1\n",
      "B 0.7724862966782932 29566.4284 5.140501897161216 90601331002, SGR_1830m0645, 29566.4284, 277.6453, -6.7894, 327.8198, 2\n",
      "DET0\n",
      "\n",
      "A 0.0648271890772007 65157.846 5.10393165154927 40701006002, SNR_G106d3p2d7_TAIL2, 65157.846, 336.9044, 60.923, 44.2642, 0\n",
      "A 0.0513635831003817 129177.1251 6.540686030251672 70601003002, ABELL_3395, 129177.1251, 96.5925, -54.3963, 138.531, 0\n",
      "B 0.0498541288721584 129177.1251 5.204061656516178 70601003002, ABELL_3395, 129177.1251, 96.5925, -54.3963, 138.531, 0\n",
      "B 0.8329081723618617 21502.9729 5.3237989610194125 80602315002, PSR_J1846m0258, 21502.9729, 281.5668, -2.994, 359.9155, 0\n"
     ]
    }
   ],
   "source": [
    "dfa = df[df['FPM']=='A'].copy().reset_index(drop=True)\n",
    "dfb = df[df['FPM']=='B'].copy().reset_index(drop=True)\n",
    "\n",
    "running_list = {'A':[], 'B':[]}\n",
    "\n",
    "\n",
    "# Iteration step: find stuff 3-sigma\n",
    "\n",
    "sig_limit = 5.0\n",
    "for det_comb in ['DET0123', 'DET12', 'DET23', 'DET01', 'DET03', 'DET1', 'DET2', 'DET3', 'DET0']:\n",
    "    print(det_comb)\n",
    "    print()\n",
    "    \n",
    "    use = {'A':np.full(len(dfa), True, dtype=bool),\n",
    "           'B':np.full(len(dfb), True, dtype=bool)}\n",
    "    for fpm, dfi in zip(['A', 'B'], [dfa, dfb]):\n",
    "        with open(f'sig_cuts_{det_comb}{fpm}_lvl2.txt', 'w') as f:\n",
    "            for iter in range(3):\n",
    "                dfi['SIG'] = (dfi[det_comb] - dfi[det_comb].mean()) / dfi[det_comb].std()\n",
    "                high_sig = dfi[dfi['SIG'] > sig_limit]\n",
    "\n",
    "                for ind, row in high_sig.iterrows():\n",
    "                    use[fpm][ind] = False\n",
    "                    if row['SEQID'] not in running_list[fpm]:\n",
    "                        running_list[fpm] = np.append(running_list[fpm], row['SEQID'])\n",
    "                        outstring = f\"{row['SEQID']}, {row['NAME']}, {row['EXPOSURE']}, {row['RA']}, {row['DEC']}, {row['PA']}, {iter}\"\n",
    "                        print(fpm, row['SRC'], row['EXPOSURE'], row['SIG'], outstring)\n",
    "                        f.write(outstring+'\\n')\n",
    "                    dfi = dfi[dfi['SIG']<sig_limit].copy()\n",
    "\n",
    "    # Now get rid of everything that you've already used for the next round of searching.\n",
    "    dfa = dfa[use['A']].copy().reset_index(drop=True)\n",
    "    dfb = dfb[use['B']].copy().reset_index(drop=True)"
   ]
  },
  {
   "cell_type": "code",
   "execution_count": 86,
   "metadata": {},
   "outputs": [
    {
     "name": "stdout",
     "output_type": "stream",
     "text": [
      "389\n",
      "369\n"
     ]
    }
   ],
   "source": [
    "print(len(running_list['A']))\n",
    "print(len(running_list['B']))\n",
    "\n"
   ]
  },
  {
   "cell_type": "code",
   "execution_count": null,
   "metadata": {},
   "outputs": [],
   "source": []
  }
 ],
 "metadata": {
  "kernelspec": {
   "display_name": "Python 3 (ipykernel)",
   "language": "python",
   "name": "python3"
  },
  "language_info": {
   "codemirror_mode": {
    "name": "ipython",
    "version": 3
   },
   "file_extension": ".py",
   "mimetype": "text/x-python",
   "name": "python",
   "nbconvert_exporter": "python",
   "pygments_lexer": "ipython3",
   "version": "3.9.7"
  }
 },
 "nbformat": 4,
 "nbformat_minor": 4
}
