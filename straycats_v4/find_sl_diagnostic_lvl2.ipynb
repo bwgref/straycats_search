{
 "cells": [
  {
   "cell_type": "code",
   "execution_count": 1,
   "metadata": {},
   "outputs": [],
   "source": [
    "import numpy as np\n",
    "import matplotlib.pyplot as plt\n",
    "from astropy.io.fits import getdata\n",
    "\n",
    "import pandas as pd\n",
    "numaster = getdata('numaster.fits')\n",
    "\n",
    "from astropy.time import Time\n",
    "\n",
    "cutoff_time = Time('2025-10-01T00:00:00').mjd\n",
    "start_time = Time('2012-12-31T00:00:00').mjd"
   ]
  },
  {
   "cell_type": "code",
   "execution_count": 2,
   "metadata": {},
   "outputs": [],
   "source": [
    "df = pd.read_csv('stray_light_det_v4a.txt', sep='\\s+', names=['SEQID', 'FPM', 'SRC', 'DET0', 'DET1', 'DET2', 'DET3'])\n",
    "\n",
    "# Filter out cases where the source is really bright:\n",
    "bright_lim = 100.\n",
    "df = df[df['SRC']<100.]\n",
    "\n",
    "\n",
    "df['DET0123'] = df['DET0'] + df['DET1'] + df['DET2'] + df['DET3']\n",
    "df['DET01'] = df['DET0'] + df['DET1']\n",
    "df['DET12'] = df['DET1'] + df['DET2']\n",
    "df['DET23'] = df['DET2'] + df['DET3']\n",
    "df['DET03'] = df['DET0'] + df['DET3']\n",
    "\n",
    "names = []\n",
    "exp = []\n",
    "ra = []\n",
    "dec = []\n",
    "pa = []\n",
    "mjds = []\n",
    "for row in df['SEQID']:\n",
    "    nuind = np.where(numaster['OBSID'] == f'{row}')\n",
    "\n",
    "    if (len(nuind[0]) == 0):\n",
    "        names = np.append(names, '')\n",
    "        exp = np.append(exp, 0)\n",
    "        ra = np.append(ra, 0.)\n",
    "        dec = np.append(dec, 0.)\n",
    "        pa = np.append(pa, 0.)\n",
    "        mjds = np.append(mjds, 0.)\n",
    "    else:\n",
    "        names = np.append(names, numaster['NAME'][nuind[0]].strip())\n",
    "        exp = np.append(exp, numaster['EXPOSURE_A'][nuind[0]])\n",
    "        ra = np.append(ra,numaster['RA'][nuind[0]] )\n",
    "        dec = np.append(dec,numaster['DEC'][nuind[0]] )\n",
    "        pa = np.append(pa,numaster['ROLL_ANGLE'][nuind[0]] )\n",
    "        mjds = np.append(mjds,numaster['TIME'][nuind[0]] )\n",
    "\n",
    "\n",
    "        \n",
    "df['NAME'] = names\n",
    "df['EXPOSURE'] = exp\n",
    "df['RA'] = ra\n",
    "df['DEC'] = dec\n",
    "df['PA'] = pa\n",
    "df['TIME'] = mjds\n",
    "\n",
    "# Get rid of stuff with low exposure\n",
    "df = df[(df['EXPOSURE']>1e3) & (df['TIME']<cutoff_time)& (df['TIME']>start_time)]\n",
    "\n",
    "\n",
    "# Get rid of stuff near SgrA*, GalSurveys, Gal_Cen, or the GC Magnetar:\n",
    "# Also Coma and Bullet cluster stuff\n",
    "bad_name = ['Sgr', 'GalSurvey', 'Gal_Cen', 'gcmag', 'Coma', 'bullet', 'Bullet']\n",
    "for bn in bad_name:   \n",
    "    df = df[~(df['NAME'].str.startswith(bn))]"
   ]
  },
  {
   "cell_type": "code",
   "execution_count": 3,
   "metadata": {},
   "outputs": [],
   "source": [
    "sig_list = []\n",
    "\n",
    "merged_df = pd.read_csv('straycats3_merged.csv')\n",
    "\n",
    "\n",
    "\n",
    "sig_list = merged_df['SEQID'].values\n",
    "\n",
    "# with open('straycats2_merged.csv', 'r') as f:\n",
    "#     for line in f:\n",
    "#         fields = line.split(',')\n",
    "# #         if fields[0].strip() == '':\n",
    "# #             break\n",
    "#         if fields[1] not in sig_list:\n",
    "#             sig_list = np.append(sig_list, fields[1])\n",
    "# sig_list = sig_list[1:]"
   ]
  },
  {
   "cell_type": "code",
   "execution_count": 4,
   "metadata": {},
   "outputs": [
    {
     "name": "stdout",
     "output_type": "stream",
     "text": [
      "614\n",
      "123\n",
      "547\n"
     ]
    }
   ],
   "source": [
    "print(len(df))\n",
    "print(len(sig_list))\n",
    "\n",
    "for seq in sig_list:\n",
    "    try:\n",
    "        seqid = float(seq)\n",
    "    except:\n",
    "        continue\n",
    "    df = df[~(df['SEQID'] == seqid)].copy().reset_index(drop=True)\n",
    "print(len(df))\n"
   ]
  },
  {
   "cell_type": "code",
   "execution_count": 5,
   "metadata": {},
   "outputs": [
    {
     "name": "stdout",
     "output_type": "stream",
     "text": [
      "479\n"
     ]
    }
   ],
   "source": [
    "# Filter out bright sources and short exposures\n",
    "df = df[(df['SRC'] < 2.) & (df['EXPOSURE'] > 10e3)].copy().reset_index(drop=True)\n",
    "print(len(df))"
   ]
  },
  {
   "cell_type": "code",
   "execution_count": 6,
   "metadata": {},
   "outputs": [
    {
     "name": "stdout",
     "output_type": "stream",
     "text": [
      "DET0123\n",
      "\n",
      "A 0.899361065555895 18012.7878 6.826402400526829 70860002002, ABELL_3571, 18012.7878, 206.8134, -32.8622, 10.7378, 0\n",
      "A 0.5605869175575012 50238.4182 6.126601499494454 60801007002, M87, 50238.4182, 187.663, 12.38, 357.9903, 0\n",
      "A 0.5238178085651389 19420.8747 5.824800986003168 60801001002, M87, 19420.8747, 187.6469, 12.3844, 13.1069, 0\n",
      "A 0.5336816804531651 45538.3816 5.820313974202668 60702051002, M87, 45538.3816, 187.6782, 12.4231, 77.7517, 0\n",
      "A 0.5397917603160786 48565.0244 5.933548144534244 60702051001, M87, 48565.0244, 187.6868, 12.425, 94.9522, 0\n",
      "A 0.3641866412909341 95305.5276 8.713214791349403 70801001002, ABELL_3266_POS1, 95305.5276, 67.808, -61.4552, 229.276, 1\n",
      "A 0.4366143109111123 103010.8241 6.896454714191268 10801407002, Kepler, 103010.8241, 262.7093, -21.4198, 156.2111, 1\n",
      "B 0.8477592977822191 18012.7878 7.154143069688652 70860002002, ABELL_3571, 18012.7878, 206.8134, -32.8622, 10.7378, 0\n",
      "B 0.5293039366699982 50238.4182 6.316018582182646 60801007002, M87, 50238.4182, 187.663, 12.38, 357.9903, 0\n",
      "B 0.4856509701376299 19420.8747 5.791801745033873 60801001002, M87, 19420.8747, 187.6469, 12.3844, 13.1069, 0\n",
      "B 0.5000104811453774 45538.3816 5.933498287437206 60702051002, M87, 45538.3816, 187.6782, 12.4231, 77.7517, 0\n",
      "B 0.5076571521202168 48565.0244 5.974383735033262 60702051001, M87, 48565.0244, 187.6868, 12.425, 94.9522, 0\n",
      "B 0.3547559905605476 95305.5276 9.63022256112312 70801001002, ABELL_3266_POS1, 95305.5276, 67.808, -61.4552, 229.276, 1\n",
      "B 0.3979316444594443 103010.8241 6.084705727254959 10801407002, Kepler, 103010.8241, 262.7093, -21.4198, 156.2111, 2\n",
      "B 0.3133731228266012 31368.0669 5.182601290736814 60160717002, IGRJ19405m3016, 31368.0669, 295.0916, -30.222, 139.6155, 2\n",
      "DET12\n",
      "\n",
      "DET23\n",
      "\n",
      "A 0.2244723883207655 40178.661 5.155211550634009 30760002002, IGR_J18434m0508, 40178.661, 280.8428, -5.0531, 155.8406, 0\n",
      "B 0.0885321522736262 40580.5718 5.196523899471848 60801043002, NGC_4374, 40580.5718, 186.206, 12.8795, 357.3839, 0\n",
      "DET01\n",
      "\n",
      "A 0.1616107246213947 19732.6013 5.013095809500438 70860005002, ABELL_3391, 19732.6013, 96.6391, -53.6516, 141.307, 0\n",
      "DET03\n",
      "\n",
      "A 0.0764898043267678 40580.5718 5.088403818335892 60801043002, NGC_4374, 40580.5718, 186.206, 12.8795, 357.3839, 0\n",
      "DET1\n",
      "\n",
      "B 0.0685415620700356 89214.0186 5.242999277665003 30701006002, SGR_1830m0645, 89214.0186, 277.7227, -6.7165, 156.1624, 0\n",
      "DET2\n",
      "\n",
      "B 0.1749405254976269 20714.097 5.18658574201916 60860006002, 2MASX_J00343284, 20714.097, 8.666, -4.3549, 134.2862, 0\n",
      "DET3\n",
      "\n",
      "DET0\n",
      "\n"
     ]
    }
   ],
   "source": [
    "dfa = df[df['FPM']=='A'].copy().reset_index(drop=True)\n",
    "dfb = df[df['FPM']=='B'].copy().reset_index(drop=True)\n",
    "\n",
    "running_list = {'A':[], 'B':[]}\n",
    "\n",
    "\n",
    "# Iteration step: find stuff 3-sigma\n",
    "\n",
    "sig_limit = 5.0\n",
    "for det_comb in ['DET0123', 'DET12', 'DET23', 'DET01', 'DET03', 'DET1', 'DET2', 'DET3', 'DET0']:\n",
    "    print(det_comb)\n",
    "    print()\n",
    "    \n",
    "    use = {'A':np.full(len(dfa), True, dtype=bool),\n",
    "           'B':np.full(len(dfb), True, dtype=bool)}\n",
    "    for fpm, dfi in zip(['A', 'B'], [dfa, dfb]):\n",
    "        with open(f'sig_cuts_{det_comb}{fpm}_lvl2.txt', 'w') as f:\n",
    "            for iter in range(3):\n",
    "                dfi['SIG'] = (dfi[det_comb] - dfi[det_comb].mean()) / dfi[det_comb].std()\n",
    "                high_sig = dfi[dfi['SIG'] > sig_limit]\n",
    "\n",
    "                for ind, row in high_sig.iterrows():\n",
    "                    use[fpm][ind] = False\n",
    "                    if row['SEQID'] not in running_list[fpm]:\n",
    "                        running_list[fpm] = np.append(running_list[fpm], row['SEQID'])\n",
    "                        outstring = f\"{row['SEQID']}, {row['NAME']}, {row['EXPOSURE']}, {row['RA']}, {row['DEC']}, {row['PA']}, {iter}\"\n",
    "                        print(fpm, row['SRC'], row['EXPOSURE'], row['SIG'], outstring)\n",
    "                        f.write(outstring+'\\n')\n",
    "                    dfi = dfi[dfi['SIG']<sig_limit].copy()\n",
    "\n",
    "    # Now get rid of everything that you've already used for the next round of searching.\n",
    "    dfa = dfa[use['A']].copy().reset_index(drop=True)\n",
    "    dfb = dfb[use['B']].copy().reset_index(drop=True)"
   ]
  },
  {
   "cell_type": "code",
   "execution_count": 7,
   "metadata": {},
   "outputs": [
    {
     "name": "stdout",
     "output_type": "stream",
     "text": [
      "10\n",
      "11\n"
     ]
    }
   ],
   "source": [
    "print(len(running_list['A']))\n",
    "print(len(running_list['B']))\n",
    "\n"
   ]
  },
  {
   "cell_type": "code",
   "execution_count": null,
   "metadata": {},
   "outputs": [],
   "source": []
  }
 ],
 "metadata": {
  "kernelspec": {
   "display_name": "Python 3 (ipykernel)",
   "language": "python",
   "name": "python3"
  },
  "language_info": {
   "codemirror_mode": {
    "name": "ipython",
    "version": 3
   },
   "file_extension": ".py",
   "mimetype": "text/x-python",
   "name": "python",
   "nbconvert_exporter": "python",
   "pygments_lexer": "ipython3",
   "version": "3.11.7"
  }
 },
 "nbformat": 4,
 "nbformat_minor": 4
}
