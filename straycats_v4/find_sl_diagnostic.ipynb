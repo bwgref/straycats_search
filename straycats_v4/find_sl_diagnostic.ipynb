{
 "cells": [
  {
   "cell_type": "code",
   "execution_count": 1,
   "metadata": {},
   "outputs": [],
   "source": [
    "import numpy as np\n",
    "import matplotlib.pyplot as plt\n",
    "from astropy.io.fits import getdata\n",
    "\n",
    "import pandas as pd\n",
    "numaster = getdata('SOC-report-dat.fits')\n",
    "from astropy.time import Time\n",
    "\n",
    "cutoff_time = Time('2025-10-01T00:00:00').mjd\n",
    "start_time = Time('2012-12-31T00:00:00').mjd\n"
   ]
  },
  {
   "cell_type": "code",
   "execution_count": 4,
   "metadata": {},
   "outputs": [
    {
     "data": {
      "text/plain": [
       "ColDefs(\n",
       "    name = 'SEQUENCEID'; format = '11A'\n",
       "    name = 'NAME'; format = '29A'\n",
       "    name = 'SURVEY'; format = '4A'\n",
       "    name = 'AFT_START'; format = '17A'\n",
       "    name = 'AFT_END'; format = '17A'\n",
       "    name = 'DATE_OBS'; format = '24A'\n",
       "    name = 'DATE_END'; format = '24A'\n",
       "    name = 'RA_OBJ'; format = 'D'\n",
       "    name = 'DEC_OBJ'; format = 'D'\n",
       "    name = 'RA_PNT'; format = 'D'\n",
       "    name = 'DEC_PNT'; format = 'D'\n",
       "    name = 'PA_PNT'; format = 'D'\n",
       "    name = 'TSTART_01'; format = 'D'\n",
       "    name = 'TSTOP_01'; format = 'D'\n",
       "    name = 'TELAPSE_01'; format = 'D'\n",
       "    name = 'ONTIME_01'; format = 'D'\n",
       "    name = 'EXPOSURE_A01'; format = 'D'\n",
       "    name = 'EXPOSURE_B01'; format = 'D'\n",
       "    name = 'NUPSDOUT'; format = 'D'\n",
       "    name = 'SOFTVER'; format = '46A'\n",
       "    name = 'CALDBVER'; format = '8A'\n",
       "    name = 'DATE_A01'; format = '19A'\n",
       "    name = 'DATE_AUDIT'; format = '22A'\n",
       ")"
      ]
     },
     "execution_count": 4,
     "metadata": {},
     "output_type": "execute_result"
    }
   ],
   "source": [
    "numaster.columns"
   ]
  },
  {
   "cell_type": "code",
   "execution_count": 19,
   "metadata": {},
   "outputs": [],
   "source": [
    "numaster_mjds = []\n",
    "for t in numaster['DATE_OBS']:\n",
    "    t0 = Time(t)\n",
    "    numaster_mjds = np.append(numaster_mjds, t0.mjd)"
   ]
  },
  {
   "cell_type": "code",
   "execution_count": 21,
   "metadata": {},
   "outputs": [],
   "source": [
    "df = pd.read_csv('stray_light_det_v4a.txt', sep='\\s+', names=['SEQID', 'FPM', 'SRC', 'DET0', 'DET1', 'DET2', 'DET3'])\n",
    "\n",
    "# Filter out cases where the source is really bright:\n",
    "bright_lim = 100.\n",
    "df = df[df['SRC']<100.]\n",
    "\n",
    "\n",
    "\n",
    "df['DET0123'] = df['DET0'] + df['DET1'] + df['DET2'] + df['DET3']\n",
    "df['DET01'] = df['DET0'] + df['DET1']\n",
    "df['DET12'] = df['DET1'] + df['DET2']\n",
    "df['DET23'] = df['DET2'] + df['DET3']\n",
    "df['DET03'] = df['DET0'] + df['DET3']\n",
    "\n",
    "\n",
    "names = []\n",
    "exp = []\n",
    "ra = []\n",
    "dec = []\n",
    "pa = []\n",
    "mjds = []\n",
    "for row in df['SEQID']:\n",
    "    nuind = np.where(numaster['SEQUENCEID'] == f'{row}')\n",
    "\n",
    "    if (len(nuind[0]) == 0):\n",
    "        names = np.append(names, '')\n",
    "        exp = np.append(exp, 0)\n",
    "        ra = np.append(ra, 0.)\n",
    "        dec = np.append(dec, 0.)\n",
    "        pa = np.append(pa, 0.)\n",
    "        mjds = np.append(mjds, 0.)\n",
    "    else:\n",
    "        names = np.append(names, numaster['NAME'][nuind[0]].strip())\n",
    "        exp = np.append(exp, numaster['EXPOSURE_A01'][nuind[0]])\n",
    "        ra = np.append(ra,numaster['RA_OBJ'][nuind[0]] )\n",
    "        dec = np.append(dec,numaster['DEC_OBJ'][nuind[0]] )\n",
    "        pa = np.append(pa,numaster['PA_PNT'][nuind[0]] )\n",
    "        mjds = np.append(mjds,numaster_mjds[nuind[0]] )\n",
    "\n",
    "\n",
    "        \n",
    "df['NAME'] = names\n",
    "df['EXPOSURE'] = exp\n",
    "df['RA'] = ra\n",
    "df['DEC'] = dec\n",
    "df['PA'] = pa\n",
    "df['TIME'] = mjds\n",
    "\n",
    "# Get rid of stuff with low exposure\n",
    "df = df[(df['EXPOSURE']>1e3) & (df['TIME']<cutoff_time) & (df['TIME']>start_time)]\n",
    "\n",
    "# Get rid of stuff near SgrA*, GalSurveys, Gal_Cen, or the GC Magnetar:\n",
    "#bad_name = ['Sgr', 'GalSurvey', 'Gal_Cen', 'gcmag']\n",
    "#for bn in bad_name:\n",
    "#    df = df[~(df['NAME'].str.startswith(bn))]"
   ]
  },
  {
   "cell_type": "code",
   "execution_count": 22,
   "metadata": {},
   "outputs": [],
   "source": [
    "dfa = df[df['FPM']=='A']\n",
    "dfb = df[df['FPM']=='B']\n",
    "\n",
    "running_list = {'A':[], 'B':[]}\n",
    "# Find the brightest stuff first\n",
    "for fpm, dfi in zip(['A', 'B'], [dfa, dfb]):\n",
    "    strong_sl = []\n",
    "    sl_lim = 7.\n",
    "    # Find the ones with strong straylight:\n",
    "    strong_df = dfi[dfi['DET0123'] > sl_lim]\n",
    "    with open(f'strong_sl_FPM{fpm}.txt', 'w') as f:\n",
    "        for ind, row in strong_df.iterrows():\n",
    "            outstring = f\"??, {row['SEQID']}, {fpm}, {row['NAME']}, {row['EXPOSURE']}, {row['RA']}, {row['DEC']}, {row['PA']}\"\n",
    "            f.write(outstring+'\\n') \n",
    "            running_list[fpm] = np.append(running_list[fpm], row['SEQID'])\n",
    "\n",
    "            \n",
    "# Trim out bright stuff\n",
    "dfa = dfa[dfa['DET0123'] < sl_lim].copy().reset_index(drop=True)\n",
    "dfb = dfb[dfb['DET0123'] < sl_lim].copy().reset_index(drop=True)"
   ]
  },
  {
   "cell_type": "code",
   "execution_count": 23,
   "metadata": {},
   "outputs": [],
   "source": [
    "\n",
    "\n",
    "# Iteration step: find stuff above 5-sigma\n",
    "\n",
    "sig_limit = 3.0\n",
    "for det_comb in ['DET0123', 'DET12', 'DET23', 'DET01', 'DET03', 'DET1', 'DET2', 'DET3', 'DET0']:\n",
    "    use = {'A':np.full(len(dfa), True, dtype=bool),\n",
    "           'B':np.full(len(dfb), True, dtype=bool)}\n",
    "\n",
    "    for fpm, dfi in zip(['A', 'B'], [dfa, dfb]):\n",
    "        with open(f'sig_cuts_{det_comb}{fpm}.txt', 'w') as f:\n",
    "            for iter in range(3):\n",
    "                dfi['SIG'] = (dfi[det_comb] - dfi[det_comb].mean()) / dfi[det_comb].std()\n",
    "                high_sig = dfi[dfi['SIG'] > sig_limit]\n",
    "                for ind, row in high_sig.iterrows():\n",
    "                    use[fpm][ind] = False\n",
    "                    if row['SEQID'] not in running_list[fpm]:\n",
    "                        running_list[fpm] = np.append(running_list[fpm], row['SEQID'])\n",
    "                        outstring = f\"??, {row['SEQID']}, {fpm}, {row['NAME']}, {row['EXPOSURE']}, {row['RA']}, {row['DEC']}, {row['PA']}\"\n",
    "\n",
    "                        f.write(outstring+'\\n')\n",
    "                dfi = dfi[dfi['SIG']<sig_limit].copy()\n",
    "\n",
    "    # Now get rid of everything that you've already used for the next round of searching.\n",
    "    dfa = dfa[use['A']].copy().reset_index(drop=True)\n",
    "    dfb = dfb[use['B']].copy().reset_index(drop=True)"
   ]
  },
  {
   "cell_type": "code",
   "execution_count": null,
   "metadata": {},
   "outputs": [],
   "source": []
  }
 ],
 "metadata": {
  "kernelspec": {
   "display_name": "Python 3 (ipykernel)",
   "language": "python",
   "name": "python3"
  },
  "language_info": {
   "codemirror_mode": {
    "name": "ipython",
    "version": 3
   },
   "file_extension": ".py",
   "mimetype": "text/x-python",
   "name": "python",
   "nbconvert_exporter": "python",
   "pygments_lexer": "ipython3",
   "version": "3.11.7"
  }
 },
 "nbformat": 4,
 "nbformat_minor": 4
}
