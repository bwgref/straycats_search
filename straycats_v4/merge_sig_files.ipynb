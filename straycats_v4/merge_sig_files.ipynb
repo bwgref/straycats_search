{
 "cells": [
  {
   "cell_type": "code",
   "execution_count": 1,
   "id": "ddbe9f9c-7eb5-4f40-b5c5-862f1239937b",
   "metadata": {},
   "outputs": [],
   "source": [
    "# Merges all of the sig files so that you can make a single file that just\n",
    "# contains sequence IDs to be run on bifrost"
   ]
  },
  {
   "cell_type": "code",
   "execution_count": 5,
   "id": "ac597019-d838-4162-a2c6-71c064f92e39",
   "metadata": {},
   "outputs": [],
   "source": [
    "from glob import glob"
   ]
  },
  {
   "cell_type": "code",
   "execution_count": 10,
   "id": "3df187ce-527c-4ef2-aec8-b7863da65adf",
   "metadata": {},
   "outputs": [
    {
     "name": "stdout",
     "output_type": "stream",
     "text": [
      " 80960302002\n",
      "sig_cuts_DET3A.txt\n",
      " 31001028002\n",
      "sig_cuts_DET01A.txt\n",
      " 80960302002\n",
      "sig_cuts_DET3B.txt\n",
      " 81001628002\n",
      "sig_cuts_DET01B.txt\n",
      " 61001004002\n",
      "sig_cuts_DET2B.txt\n",
      " 31002003004\n",
      "sig_cuts_DET2A.txt\n",
      " 41001003002\n",
      "sig_cuts_DET0123A.txt\n",
      " 91001321002\n",
      "sig_cuts_DET0123B.txt\n",
      " 31002031005\n",
      "sig_cuts_DET12A.txt\n",
      " 80902346005\n",
      "sig_cuts_DET12B.txt\n",
      " 31002008002\n",
      "sig_cuts_DET23B.txt\n",
      " 91001612002\n",
      "sig_cuts_DET03A.txt\n",
      " 61001004002\n",
      "sig_cuts_DET1A.txt\n",
      " 31002008002\n",
      "sig_cuts_DET23A.txt\n",
      " 60901034004\n",
      "sig_cuts_DET03B.txt\n",
      " 81002403002\n",
      "sig_cuts_DET1B.txt\n",
      " 31001007002\n",
      "sig_cuts_DET0B.txt\n",
      " 91001324002\n",
      "sig_cuts_DET0A.txt\n"
     ]
    }
   ],
   "source": [
    "merged_list = []\n",
    "for file in glob('sig_cuts*txt'):\n",
    "    with open(file, 'r') as f:\n",
    "        for line in f:\n",
    "            seqid = (line.split(','))[1]\n",
    "            print(seqid)\n",
    "            break\n",
    "    print(file)"
   ]
  },
  {
   "cell_type": "code",
   "execution_count": null,
   "id": "a33f0009-0f99-4506-bf70-f77f98d177b4",
   "metadata": {},
   "outputs": [],
   "source": []
  }
 ],
 "metadata": {
  "kernelspec": {
   "display_name": "Python 3 (ipykernel)",
   "language": "python",
   "name": "python3"
  },
  "language_info": {
   "codemirror_mode": {
    "name": "ipython",
    "version": 3
   },
   "file_extension": ".py",
   "mimetype": "text/x-python",
   "name": "python",
   "nbconvert_exporter": "python",
   "pygments_lexer": "ipython3",
   "version": "3.11.7"
  }
 },
 "nbformat": 4,
 "nbformat_minor": 5
}
