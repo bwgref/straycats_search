{
 "cells": [
  {
   "cell_type": "code",
   "execution_count": 1,
   "id": "ddbe9f9c-7eb5-4f40-b5c5-862f1239937b",
   "metadata": {},
   "outputs": [],
   "source": [
    "# Merges all of the sig files so that you can make a single file that just\n",
    "# contains sequence IDs to be run on bifrost"
   ]
  },
  {
   "cell_type": "code",
   "execution_count": 12,
   "id": "ac597019-d838-4162-a2c6-71c064f92e39",
   "metadata": {},
   "outputs": [],
   "source": [
    "from glob import glob\n",
    "import numpy as np"
   ]
  },
  {
   "cell_type": "code",
   "execution_count": 15,
   "id": "3df187ce-527c-4ef2-aec8-b7863da65adf",
   "metadata": {},
   "outputs": [],
   "source": [
    "\n",
    "merged_list = []\n",
    "for file in glob('sig_cuts*txt'):\n",
    "    with open(file, 'r') as f:\n",
    "        for line in f:\n",
    "            seqid = (line.split(','))[1].strip()\n",
    "            if seqid not in merged_list:\n",
    "                merged_list = np.append(merged_list, seqid)\n",
    "with open('sig_merged.txt', 'w') as f:\n",
    "    for entry in merged_list:\n",
    "        f.write(f'{entry}\\n')"
   ]
  },
  {
   "cell_type": "code",
   "execution_count": 14,
   "id": "a33f0009-0f99-4506-bf70-f77f98d177b4",
   "metadata": {},
   "outputs": [
    {
     "data": {
      "text/plain": [
       "array(['80960302002', '60901013002', '31001028002', '60902010008',\n",
       "       '60902010004', '60901014004', '80902348007', '60901034004',\n",
       "       '60902010006', '61001014004', '80902330002', '30902017002',\n",
       "       '60160486002', '31002003006', '61001014002', '60902004002',\n",
       "       '31002003008', '91001324002', '81001628002', '30901024002',\n",
       "       '41001003002', '30902031002', '61001004002', '31002003002',\n",
       "       '61002008004', '91002520002', '91002305004', '31002003004',\n",
       "       '61002024002', '40901002004', '40901002002', '91001321002',\n",
       "       '91001518002', '30902013006', '30902013004', '91001304002',\n",
       "       '80902346001', '80902346005', '30902013008', '91002515004',\n",
       "       '91002515002', '30902013002', '80902346003', '91001302001',\n",
       "       '50902003009', '81001322001', '50902003007', '60901031002',\n",
       "       '30902018004', '30902018002', '30901010002', '91002306002',\n",
       "       '31002031005', '80801305002', '80901307002', '31002031001',\n",
       "       '60902024016', '80902348003', '60901034002', '31002031003',\n",
       "       '61002002002', '60902024014', '60802031004', '80902342002',\n",
       "       '61002022002', '60160580002', '60802031002', '30901001002',\n",
       "       '91001317002', '60901011002', '80902348005', '31002008002',\n",
       "       '70901001002', '30902017004', '31001021002', '30902040004',\n",
       "       '30902031004', '91001612002', '60160745002', '50910005002',\n",
       "       '11001407002', '81002403002', '91001314002', '80901341002',\n",
       "       '61002005002', '91002305002', '31001007002', '30901032002',\n",
       "       '60910012002', '60910011002', '50910003002'], dtype='<U32')"
      ]
     },
     "execution_count": 14,
     "metadata": {},
     "output_type": "execute_result"
    }
   ],
   "source": [
    "merged_list"
   ]
  },
  {
   "cell_type": "code",
   "execution_count": null,
   "id": "c5c21856-eee2-4684-acb5-356849404d0d",
   "metadata": {},
   "outputs": [],
   "source": []
  }
 ],
 "metadata": {
  "kernelspec": {
   "display_name": "Python 3 (ipykernel)",
   "language": "python",
   "name": "python3"
  },
  "language_info": {
   "codemirror_mode": {
    "name": "ipython",
    "version": 3
   },
   "file_extension": ".py",
   "mimetype": "text/x-python",
   "name": "python",
   "nbconvert_exporter": "python",
   "pygments_lexer": "ipython3",
   "version": "3.11.7"
  }
 },
 "nbformat": 4,
 "nbformat_minor": 5
}
